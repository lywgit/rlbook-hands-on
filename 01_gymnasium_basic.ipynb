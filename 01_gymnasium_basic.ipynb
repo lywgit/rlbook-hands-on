{
  "nbformat": 4,
  "nbformat_minor": 0,
  "metadata": {
    "colab": {
      "provenance": [],
      "authorship_tag": "ABX9TyNIq8wUJiCJfC6J8CeRdM9/",
      "include_colab_link": true
    },
    "kernelspec": {
      "name": "python3",
      "display_name": "Python 3"
    },
    "language_info": {
      "name": "python"
    }
  },
  "cells": [
    {
      "cell_type": "markdown",
      "metadata": {
        "id": "view-in-github",
        "colab_type": "text"
      },
      "source": [
        "<a href=\"https://colab.research.google.com/github/lywgit/rlbook-hands-on/blob/main/01_gymnasium_basic.ipynb\" target=\"_parent\"><img src=\"https://colab.research.google.com/assets/colab-badge.svg\" alt=\"Open In Colab\"/></a>"
      ]
    },
    {
      "cell_type": "markdown",
      "source": [
        "# 01 gym basics\n",
        "\n",
        "- Use [gymnasium](https://gymnasium.farama.org/) instead of gym"
      ],
      "metadata": {
        "id": "h7bwIh5arRKg"
      }
    },
    {
      "cell_type": "code",
      "execution_count": 1,
      "metadata": {
        "colab": {
          "base_uri": "https://localhost:8080/"
        },
        "id": "1cREkwV-tn1Q",
        "outputId": "eb5fc25b-3572-42de-d0c5-d773cb3ad94e"
      },
      "outputs": [
        {
          "output_type": "stream",
          "name": "stdout",
          "text": [
            "Requirement already satisfied: gymnasium in /usr/local/lib/python3.10/dist-packages (1.0.0)\n",
            "Requirement already satisfied: numpy>=1.21.0 in /usr/local/lib/python3.10/dist-packages (from gymnasium) (1.26.4)\n",
            "Requirement already satisfied: cloudpickle>=1.2.0 in /usr/local/lib/python3.10/dist-packages (from gymnasium) (3.1.0)\n",
            "Requirement already satisfied: typing-extensions>=4.3.0 in /usr/local/lib/python3.10/dist-packages (from gymnasium) (4.12.2)\n",
            "Requirement already satisfied: farama-notifications>=0.0.1 in /usr/local/lib/python3.10/dist-packages (from gymnasium) (0.0.4)\n",
            "Requirement already satisfied: ale-py in /usr/local/lib/python3.10/dist-packages (0.10.1)\n",
            "Requirement already satisfied: numpy>1.20 in /usr/local/lib/python3.10/dist-packages (from ale-py) (1.26.4)\n",
            "Requirement already satisfied: typing-extensions in /usr/local/lib/python3.10/dist-packages (from ale-py) (4.12.2)\n"
          ]
        }
      ],
      "source": [
        "!pip install gymnasium\n",
        "!pip install ale-py"
      ]
    },
    {
      "cell_type": "code",
      "source": [
        "import gymnasium as gym\n",
        "import ale_py\n",
        "gym.register_envs(ale_py)\n",
        "# gym.pprint_registry()"
      ],
      "metadata": {
        "id": "FsDsOuaVrMXr"
      },
      "execution_count": 2,
      "outputs": []
    },
    {
      "cell_type": "markdown",
      "source": [
        "## environment\n",
        "\n",
        "- an environment instance knows its observaion space and action space\n",
        "- an environment instance can take a step forward upon receiving your input action and feedback on your obtained reward\n",
        "- it also knows if the game is done"
      ],
      "metadata": {
        "id": "YikQ-f1ssNRA"
      }
    },
    {
      "cell_type": "code",
      "source": [
        "from pprint import pprint\n",
        "import gymnasium as gym\n",
        "\n",
        "SEED = 42\n",
        "\n",
        "# initialize environment\n",
        "env = gym.make('CartPole-v1')\n",
        "\n",
        "print('-- env --' )\n",
        "print(env)\n",
        "\n",
        "print('-- env.observation_space --')\n",
        "print(env.observation_space)\n",
        "\n",
        "print('-- env.action_space --')\n",
        "print(env.action_space)\n",
        "if isinstance(env.action_space, gym.spaces.discrete.Discrete):\n",
        "    print(' n =', env.action_space.n)\n",
        "    print(' start =', env.action_space.start)\n",
        "\n",
        "\n",
        "# first observation\n",
        "observation, info = env.reset(seed=SEED)\n",
        "print('-- (first observation before any action) -- ')\n",
        "print('-- observation --')\n",
        "print(observation)\n",
        "print('-- info --')\n",
        "print(info)\n",
        "\n",
        "# choose an action at random\n",
        "action = env.action_space.sample()\n",
        "print('-- a random action')\n",
        "print(action)\n",
        "\n",
        "# a step forward\n",
        "observation, reward, terminated, truncated, info = env.step(action)\n",
        "print('-- (after a step) --')\n",
        "print('-- observation --')\n",
        "print(observation)\n",
        "print('-- reward --')\n",
        "print(reward)\n",
        "print('-- terminated --')\n",
        "print(terminated)\n",
        "print('-- truncated --')\n",
        "print(truncated)\n",
        "print('-- info --')\n",
        "print(info)\n"
      ],
      "metadata": {
        "colab": {
          "base_uri": "https://localhost:8080/"
        },
        "id": "bK7-sw1urgF4",
        "outputId": "1f6c331f-7679-4e9a-ff7a-1bf5f965a87b"
      },
      "execution_count": 3,
      "outputs": [
        {
          "output_type": "stream",
          "name": "stdout",
          "text": [
            "-- env --\n",
            "<TimeLimit<OrderEnforcing<PassiveEnvChecker<CartPoleEnv<CartPole-v1>>>>>\n",
            "-- env.observation_space --\n",
            "Box([-4.8               -inf -0.41887903        -inf], [4.8               inf 0.41887903        inf], (4,), float32)\n",
            "-- env.action_space --\n",
            "Discrete(2)\n",
            " n = 2\n",
            " start = 0\n",
            "-- (first observation before any action) -- \n",
            "-- observation --\n",
            "[ 0.0273956  -0.00611216  0.03585979  0.0197368 ]\n",
            "-- info --\n",
            "{}\n",
            "-- a random action\n",
            "0\n",
            "-- (after a step) --\n",
            "-- observation --\n",
            "[ 0.02727336 -0.20172954  0.03625453  0.32351476]\n",
            "-- reward --\n",
            "1.0\n",
            "-- terminated --\n",
            "False\n",
            "-- truncated --\n",
            "False\n",
            "-- info --\n",
            "{}\n"
          ]
        }
      ]
    },
    {
      "cell_type": "markdown",
      "source": [
        "## wrappers\n",
        "- There is a long list of predefined wrappers under `gymnasium.wrappers`:\n",
        "    - ex: `NumpyToTorch, RescaleAction` etc\n",
        "- To [implement custom wrapper](https://gymnasium.farama.org/tutorials/gymnasium_basics/implementing_custom_wrappers/), inherit from these classes:\n",
        "    - `Wrapper, ActionWrapper, ObservationWrapper, RewardWrapper`\n"
      ],
      "metadata": {
        "id": "DWDvQxfiyM0f"
      }
    },
    {
      "cell_type": "code",
      "source": [
        "import gymnasium as gym\n",
        "from gymnasium.wrappers import NumpyToTorch, RescaleAction\n",
        "from gymnasium import Wrapper, ActionWrapper, ObservationWrapper, RewardWrapper\n",
        "\n",
        "# to see the\n",
        "env = gym.make('CartPole-v1')\n",
        "print('current env (can be a wrapper):', env)\n",
        "print('the env wrapped by current env:', env.env)\n",
        "print('the env underneeth all wrappers:', env.unwrapped)\n",
        "# print(env.unwrapped.env)\n"
      ],
      "metadata": {
        "colab": {
          "base_uri": "https://localhost:8080/"
        },
        "id": "KJNQVupgr2wO",
        "outputId": "b84d449f-1794-4b3f-c62d-50febe7ef029"
      },
      "execution_count": 4,
      "outputs": [
        {
          "output_type": "stream",
          "name": "stdout",
          "text": [
            "current env (can be a wrapper): <TimeLimit<OrderEnforcing<PassiveEnvChecker<CartPoleEnv<CartPole-v1>>>>>\n",
            "the env wrapped by current env: <OrderEnforcing<PassiveEnvChecker<CartPoleEnv<CartPole-v1>>>>\n",
            "the env underneeth all wrappers: <CartPoleEnv<CartPole-v1>>\n"
          ]
        }
      ]
    },
    {
      "cell_type": "markdown",
      "source": [
        "## ActionWrapper example"
      ],
      "metadata": {
        "id": "_VI2Nl-I2qob"
      }
    },
    {
      "cell_type": "code",
      "source": [
        "from gymnasium import ActionWrapper\n",
        "\n",
        "class RandomActionWrapper(ActionWrapper):\n",
        "    def __init__(self, env, epsilon=0.1):\n",
        "        super().__init__(env)\n",
        "        self.epsilon = epsilon\n",
        "        self.action_space = gym.spaces.discrete.Discrete(n=2)\n",
        "        # should also specify the correct overwridden action, here the same so not necessary\n",
        "\n",
        "    def action(self, action): # override\n",
        "        if self.env.np_random.uniform() < self.epsilon:\n",
        "            action = self.env.action_space.sample()\n",
        "            print(f'(random!) {action}', end=', ')\n",
        "        else:\n",
        "            print(action, end=', ')\n",
        "        return action\n",
        "\n",
        "env = gym.make('CartPole-v1')\n",
        "env = RandomActionWrapper(env) # wrap the env\n",
        "\n",
        "fixed_action = 0\n",
        "observation, _ = env.reset()\n",
        "for _ in range(100):\n",
        "    observation, reward, terminated, truncated, info = env.step(fixed_action)\n",
        "    # although always pass in a fixed_action, the ActionWrapper can override this behaviour\n",
        "    if terminated or truncated:\n",
        "        observation, _ = env.reset()\n",
        "env.close()\n",
        "\n"
      ],
      "metadata": {
        "colab": {
          "base_uri": "https://localhost:8080/"
        },
        "id": "c-Sdo4R42qbU",
        "outputId": "57f00ea2-cbbe-454d-e214-741741dccfec"
      },
      "execution_count": 5,
      "outputs": [
        {
          "output_type": "stream",
          "name": "stdout",
          "text": [
            "0, 0, 0, 0, 0, 0, 0, (random!) 0, 0, 0, 0, 0, 0, 0, 0, 0, (random!) 1, 0, 0, 0, 0, 0, 0, (random!) 1, 0, (random!) 0, 0, 0, 0, 0, 0, (random!) 0, (random!) 0, 0, 0, 0, 0, 0, 0, 0, 0, 0, 0, 0, 0, 0, (random!) 0, 0, 0, 0, 0, 0, 0, 0, 0, 0, 0, 0, 0, 0, 0, (random!) 1, 0, 0, 0, 0, (random!) 0, 0, (random!) 1, 0, 0, 0, 0, 0, 0, 0, 0, 0, 0, 0, 0, 0, 0, 0, 0, 0, 0, 0, 0, 0, 0, 0, 0, 0, 0, 0, 0, 0, 0, (random!) 1, "
          ]
        }
      ]
    },
    {
      "cell_type": "markdown",
      "source": [
        "## Quick visualization\n"
      ],
      "metadata": {
        "id": "00XDs4S3ZUSp"
      }
    },
    {
      "cell_type": "code",
      "source": [
        "# continuousely clear output and then display image\n",
        "# the results flickers but is straightforward\n",
        "# Modified from: https://stackoverflow.com/a/72450538/4632195\n",
        "\n",
        "import os\n",
        "import gymnasium as gym\n",
        "import matplotlib.pyplot as plt\n",
        "from IPython.display import clear_output\n",
        "\n",
        "env = gym.make(\"CartPole-v1\", render_mode='rgb_array')\n",
        "observation, info = env.reset()\n",
        "\n",
        "for i in range(100):\n",
        "    observation, reward, turminated, truncated, info = env.step(env.action_space.sample())\n",
        "\n",
        "    if turminated or truncated:\n",
        "        observation, info = env.reset()\n",
        "\n",
        "    if i % 5 == 0:\n",
        "        clear_output(wait=True)\n",
        "        img = env.render()\n",
        "        plt.imshow(img)\n",
        "        # optionaly remove grid and ticks, and add some info\n",
        "        plt.axis('off')\n",
        "        plt.text(0, 0, f\"iter = {i}\")\n",
        "        plt.show()\n",
        "\n",
        "env.close()"
      ],
      "metadata": {
        "colab": {
          "base_uri": "https://localhost:8080/",
          "height": 378
        },
        "id": "Ek1uNq9FZTco",
        "outputId": "cfcb7679-7774-46cf-bf98-ebb5589250e8"
      },
      "execution_count": 6,
      "outputs": [
        {
          "output_type": "display_data",
          "data": {
            "text/plain": [
              "<Figure size 640x480 with 1 Axes>"
            ],
            "image/png": "[encoded data removed]"
          },
          "metadata": {}
        }
      ]
    },
    {
      "cell_type": "markdown",
      "source": [
        "## Recording and displaying video\n",
        "- gymnasium doc: [record agent](https://gymnasium.farama.org/introduction/record_agent/)\n",
        "- display video with moviepy: https://stackoverflow.com/a/75872378/4632195\n"
      ],
      "metadata": {
        "id": "Keb3DmPaklMW"
      }
    },
    {
      "cell_type": "code",
      "source": [
        "import gymnasium as gym\n",
        "from gymnasium.wrappers import RecordEpisodeStatistics, RecordVideo\n",
        "\n",
        "num_eval_episodes = 4\n",
        "\n",
        "env = gym.make(\"CartPole-v1\", render_mode=\"rgb_array\")  # replace with your environment\n",
        "env = RecordVideo(env, video_folder=\"cartpole-agent\", name_prefix=\"eval\",\n",
        "                  episode_trigger=lambda x: True)\n",
        "env = RecordEpisodeStatistics(env, buffer_length=num_eval_episodes)\n",
        "\n",
        "for episode_num in range(num_eval_episodes):\n",
        "    obs, info = env.reset()\n",
        "\n",
        "    episode_over = False\n",
        "    while not episode_over:\n",
        "        action = env.action_space.sample()  # replace with actual agent\n",
        "        obs, reward, terminated, truncated, info = env.step(action)\n",
        "\n",
        "        episode_over = terminated or truncated\n",
        "env.close()\n",
        "\n",
        "print(f'Episode time taken: {env.time_queue}')\n",
        "print(f'Episode total rewards: {env.return_queue}')\n",
        "print(f'Episode lengths: {env.length_queue}')"
      ],
      "metadata": {
        "colab": {
          "base_uri": "https://localhost:8080/"
        },
        "id": "NmIgDuhPZtAL",
        "outputId": "00e80a9b-79f7-4e63-c5c9-3e0ea8c52a83"
      },
      "execution_count": 7,
      "outputs": [
        {
          "output_type": "stream",
          "name": "stderr",
          "text": [
            "/usr/local/lib/python3.10/dist-packages/gymnasium/wrappers/rendering.py:283: UserWarning: \u001b[33mWARN: Overwriting existing videos at /content/cartpole-agent folder (try specifying a different `video_folder` for the `RecordVideo` wrapper if this is not desired)\u001b[0m\n",
            "  logger.warn(\n"
          ]
        },
        {
          "output_type": "stream",
          "name": "stdout",
          "text": [
            "Episode time taken: deque([0.141163, 0.178552, 0.065667, 0.103184], maxlen=4)\n",
            "Episode total rewards: deque([18.0, 34.0, 14.0, 24.0], maxlen=4)\n",
            "Episode lengths: deque([18, 34, 14, 24], maxlen=4)\n"
          ]
        }
      ]
    },
    {
      "cell_type": "code",
      "source": [
        "# play video in colab\n",
        "import moviepy.editor\n",
        "moviepy.editor.ipython_display(\"cartpole-agent/eval-episode-0.mp4\")"
      ],
      "metadata": {
        "colab": {
          "base_uri": "https://localhost:8080/",
          "height": 421
        },
        "id": "2eEQS6UFlgvC",
        "outputId": "3ee1ff0e-b6f4-425e-cb5f-010a66420a11"
      },
      "execution_count": 8,
      "outputs": [
        {
          "output_type": "execute_result",
          "data": {
            "text/plain": [
              "<moviepy.video.io.html_tools.HTML2 object>"
            ],
            "text/html": [
              "<div align=middle><video src='data:video/mp4;base64,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' controls>Sorry, seems like your browser doesn't support HTML5 audio/video</video></div>"
            ]
          },
          "metadata": {},
          "execution_count": 8
        }
      ]
    }
  ]
}