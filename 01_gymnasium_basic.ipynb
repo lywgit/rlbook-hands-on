{
  "nbformat": 4,
  "nbformat_minor": 0,
  "metadata": {
    "colab": {
      "provenance": [],
      "authorship_tag": "ABX9TyNio11oMz4dz4Ajm3JIoxT0",
      "include_colab_link": true
    },
    "kernelspec": {
      "name": "python3",
      "display_name": "Python 3"
    },
    "language_info": {
      "name": "python"
    }
  },
  "cells": [
    {
      "cell_type": "markdown",
      "metadata": {
        "id": "view-in-github",
        "colab_type": "text"
      },
      "source": [
        "<a href=\"https://colab.research.google.com/github/lywgit/rlbook-hands-on/blob/main/01_gymnasium_basic.ipynb\" target=\"_parent\"><img src=\"https://colab.research.google.com/assets/colab-badge.svg\" alt=\"Open In Colab\"/></a>"
      ]
    },
    {
      "cell_type": "markdown",
      "source": [
        "# 01 gym basics\n",
        "\n",
        "- Use [gymnasium](https://gymnasium.farama.org/) instead of gym"
      ],
      "metadata": {
        "id": "h7bwIh5arRKg"
      }
    },
    {
      "cell_type": "code",
      "execution_count": 1,
      "metadata": {
        "colab": {
          "base_uri": "https://localhost:8080/"
        },
        "id": "1cREkwV-tn1Q",
        "outputId": "7fa41b08-c8cc-4a7e-c4f9-6d54fdaf85fd"
      },
      "outputs": [
        {
          "output_type": "stream",
          "name": "stdout",
          "text": [
            "Collecting gymnasium\n",
            "  Downloading gymnasium-1.0.0-py3-none-any.whl.metadata (9.5 kB)\n",
            "Requirement already satisfied: numpy>=1.21.0 in /usr/local/lib/python3.10/dist-packages (from gymnasium) (1.26.4)\n",
            "Requirement already satisfied: cloudpickle>=1.2.0 in /usr/local/lib/python3.10/dist-packages (from gymnasium) (3.1.0)\n",
            "Requirement already satisfied: typing-extensions>=4.3.0 in /usr/local/lib/python3.10/dist-packages (from gymnasium) (4.12.2)\n",
            "Collecting farama-notifications>=0.0.1 (from gymnasium)\n",
            "  Downloading Farama_Notifications-0.0.4-py3-none-any.whl.metadata (558 bytes)\n",
            "Downloading gymnasium-1.0.0-py3-none-any.whl (958 kB)\n",
            "\u001b[?25l   \u001b[90m━━━━━━━━━━━━━━━━━━━━━━━━━━━━━━━━━━━━━━━━\u001b[0m \u001b[32m0.0/958.1 kB\u001b[0m \u001b[31m?\u001b[0m eta \u001b[36m-:--:--\u001b[0m\r\u001b[2K   \u001b[91m━━━━━━━━━\u001b[0m\u001b[90m╺\u001b[0m\u001b[90m━━━━━━━━━━━━━━━━━━━━━━━━━━━━━━\u001b[0m \u001b[32m225.3/958.1 kB\u001b[0m \u001b[31m6.9 MB/s\u001b[0m eta \u001b[36m0:00:01\u001b[0m\r\u001b[2K   \u001b[91m━━━━━━━━━━━━━━━━━━━━━━━━━━━━━━━━━━━━━━━\u001b[0m\u001b[91m╸\u001b[0m \u001b[32m952.3/958.1 kB\u001b[0m \u001b[31m16.3 MB/s\u001b[0m eta \u001b[36m0:00:01\u001b[0m\r\u001b[2K   \u001b[90m━━━━━━━━━━━━━━━━━━━━━━━━━━━━━━━━━━━━━━━━\u001b[0m \u001b[32m958.1/958.1 kB\u001b[0m \u001b[31m12.6 MB/s\u001b[0m eta \u001b[36m0:00:00\u001b[0m\n",
            "\u001b[?25hDownloading Farama_Notifications-0.0.4-py3-none-any.whl (2.5 kB)\n",
            "Installing collected packages: farama-notifications, gymnasium\n",
            "Successfully installed farama-notifications-0.0.4 gymnasium-1.0.0\n",
            "Collecting ale-py\n",
            "  Downloading ale_py-0.10.1-cp310-cp310-manylinux_2_17_x86_64.manylinux2014_x86_64.whl.metadata (7.6 kB)\n",
            "Requirement already satisfied: numpy>1.20 in /usr/local/lib/python3.10/dist-packages (from ale-py) (1.26.4)\n",
            "Requirement already satisfied: typing-extensions in /usr/local/lib/python3.10/dist-packages (from ale-py) (4.12.2)\n",
            "Downloading ale_py-0.10.1-cp310-cp310-manylinux_2_17_x86_64.manylinux2014_x86_64.whl (2.1 MB)\n",
            "\u001b[2K   \u001b[90m━━━━━━━━━━━━━━━━━━━━━━━━━━━━━━━━━━━━━━━━\u001b[0m \u001b[32m2.1/2.1 MB\u001b[0m \u001b[31m18.9 MB/s\u001b[0m eta \u001b[36m0:00:00\u001b[0m\n",
            "\u001b[?25hInstalling collected packages: ale-py\n",
            "Successfully installed ale-py-0.10.1\n"
          ]
        }
      ],
      "source": [
        "!pip install gymnasium\n",
        "!pip install ale-py"
      ]
    },
    {
      "cell_type": "code",
      "source": [
        "import gymnasium as gym\n",
        "import ale_py\n",
        "gym.register_envs(ale_py)\n",
        "# gym.pprint_registry()"
      ],
      "metadata": {
        "id": "FsDsOuaVrMXr"
      },
      "execution_count": 5,
      "outputs": []
    },
    {
      "cell_type": "markdown",
      "source": [
        "## environment\n",
        "\n",
        "- an environment instance knows its observaion space and action space\n",
        "- an environment instance can take a step forward upon receiving your input action and feedback on your obtained reward\n",
        "- it also knows if the game is done"
      ],
      "metadata": {
        "id": "YikQ-f1ssNRA"
      }
    },
    {
      "cell_type": "code",
      "source": [
        "from pprint import pprint\n",
        "import gymnasium as gym\n",
        "\n",
        "SEED = 42\n",
        "\n",
        "# initialize environment\n",
        "env = gym.make('CartPole-v1')\n",
        "\n",
        "print('-- env --' )\n",
        "print(env)\n",
        "\n",
        "print('-- env.observation_space --')\n",
        "print(env.observation_space)\n",
        "\n",
        "print('-- env.action_space --')\n",
        "print(env.action_space)\n",
        "if isinstance(env.action_space, gym.spaces.discrete.Discrete):\n",
        "    print(' n =', env.action_space.n)\n",
        "    print(' start =', env.action_space.start)\n",
        "\n",
        "\n",
        "# first observation\n",
        "observation, info = env.reset(seed=SEED)\n",
        "print('-- (first observation before any action) -- ')\n",
        "print('-- observation --')\n",
        "print(observation)\n",
        "print('-- info --')\n",
        "print(info)\n",
        "\n",
        "# choose an action at random\n",
        "action = env.action_space.sample()\n",
        "print('-- a random action')\n",
        "print(action)\n",
        "\n",
        "# a step forward\n",
        "observation, reward, terminated, truncated, info = env.step(action)\n",
        "print('-- (after a step) --')\n",
        "print('-- observation --')\n",
        "print(observation)\n",
        "print('-- reward --')\n",
        "print(reward)\n",
        "print('-- terminated --')\n",
        "print(terminated)\n",
        "print('-- truncated --')\n",
        "print(truncated)\n",
        "print('-- info --')\n",
        "print(info)\n"
      ],
      "metadata": {
        "colab": {
          "base_uri": "https://localhost:8080/"
        },
        "id": "bK7-sw1urgF4",
        "outputId": "d9579b8a-d0f1-4822-b06b-7bc79f210f56"
      },
      "execution_count": 39,
      "outputs": [
        {
          "output_type": "stream",
          "name": "stdout",
          "text": [
            "-- env --\n",
            "<TimeLimit<OrderEnforcing<PassiveEnvChecker<CartPoleEnv<CartPole-v1>>>>>\n",
            "-- env.observation_space --\n",
            "Box([-4.8               -inf -0.41887903        -inf], [4.8               inf 0.41887903        inf], (4,), float32)\n",
            "-- env.action_space --\n",
            "Discrete(2)\n",
            " n = 2\n",
            " start = 0\n",
            "-- (first observation before any action) -- \n",
            "-- observation --\n",
            "[ 0.0273956  -0.00611216  0.03585979  0.0197368 ]\n",
            "-- info --\n",
            "{}\n",
            "-- a random action\n",
            "1\n",
            "-- (after a step) --\n",
            "-- observation --\n",
            "[ 0.02727336  0.18847767  0.03625453 -0.26141977]\n",
            "-- reward --\n",
            "1.0\n",
            "-- terminated --\n",
            "False\n",
            "-- truncated --\n",
            "False\n",
            "-- info --\n",
            "{}\n"
          ]
        }
      ]
    },
    {
      "cell_type": "markdown",
      "source": [
        "## wrappers\n",
        "- There is a long list of predefined wrappers under `gymnasium.wrappers`:\n",
        "    - ex: `NumpyToTorch, RescaleAction` etc\n",
        "- To [implement custom wrapper](https://gymnasium.farama.org/tutorials/gymnasium_basics/implementing_custom_wrappers/), inherit from these classes:\n",
        "    - `Wrapper, ActionWrapper, ObservationWrapper, RewardWrapper`\n"
      ],
      "metadata": {
        "id": "DWDvQxfiyM0f"
      }
    },
    {
      "cell_type": "code",
      "source": [
        "import gymnasium as gym\n",
        "from gymnasium.wrappers import NumpyToTorch, RescaleAction\n",
        "from gymnasium import Wrapper, ActionWrapper, ObservationWrapper, RewardWrapper\n",
        "\n",
        "# to see the\n",
        "env = gym.make('CartPole-v1')\n",
        "print('current env (can be a wrapper):', env)\n",
        "print('the env wrapped by current env:', env.env)\n",
        "print('the env underneeth all wrappers:', env.unwrapped)\n",
        "# print(env.unwrapped.env)\n"
      ],
      "metadata": {
        "colab": {
          "base_uri": "https://localhost:8080/"
        },
        "id": "KJNQVupgr2wO",
        "outputId": "77b24ee8-d0cc-4220-869b-299e9654560f"
      },
      "execution_count": 49,
      "outputs": [
        {
          "output_type": "stream",
          "name": "stdout",
          "text": [
            "current env (can be a wrapper): <TimeLimit<OrderEnforcing<PassiveEnvChecker<CartPoleEnv<CartPole-v1>>>>>\n",
            "the env wrapped by current env: <OrderEnforcing<PassiveEnvChecker<CartPoleEnv<CartPole-v1>>>>\n",
            "the env underneeth all wrappers: <CartPoleEnv<CartPole-v1>>\n"
          ]
        }
      ]
    },
    {
      "cell_type": "markdown",
      "source": [
        "## ActionWrapper example"
      ],
      "metadata": {
        "id": "_VI2Nl-I2qob"
      }
    },
    {
      "cell_type": "code",
      "source": [
        "from gymnasium import ActionWrapper\n",
        "\n",
        "class RandomActionWrapper(ActionWrapper):\n",
        "    def __init__(self, env, epsilon=0.1):\n",
        "        super().__init__(env)\n",
        "        self.epsilon = epsilon\n",
        "        self.action_space = gym.spaces.discrete.Discrete(n=2)\n",
        "        # should also specify the correct overwridden action, here the same so not necessary\n",
        "\n",
        "    def action(self, action): # override\n",
        "        if self.env.np_random.uniform() < self.epsilon:\n",
        "            action = self.env.action_space.sample()\n",
        "            print(f'(random!) {action}', end=', ')\n",
        "        else:\n",
        "            print(action, end=', ')\n",
        "        return action\n",
        "\n",
        "env = gym.make('CartPole-v1')\n",
        "env = RandomActionWrapper(env) # wrap the env\n",
        "\n",
        "fixed_action = 0\n",
        "observation, _ = env.reset()\n",
        "for _ in range(100):\n",
        "    observation, reward, terminated, truncated, info = env.step(fixed_action)\n",
        "    # although always pass in a fixed_action, the ActionWrapper can override this behaviour\n",
        "    if terminated or truncated:\n",
        "        observation, _ = env.reset()\n",
        "env.close()\n",
        "\n"
      ],
      "metadata": {
        "colab": {
          "base_uri": "https://localhost:8080/"
        },
        "id": "c-Sdo4R42qbU",
        "outputId": "2dd442b5-b23a-4e3c-e837-bc35ab48756a"
      },
      "execution_count": 53,
      "outputs": [
        {
          "output_type": "stream",
          "name": "stdout",
          "text": [
            "(random!) 0, (random!) 0, 0, 0, 0, (random!) 0, 0, 0, 0, 0, 0, 0, 0, 0, 0, 0, 0, 0, 0, 0, 0, (random!) 0, 0, 0, 0, 0, 0, (random!) 1, 0, 0, 0, 0, 0, 0, 0, 0, 0, 0, 0, 0, 0, 0, 0, 0, 0, 0, (random!) 1, 0, (random!) 0, (random!) 0, 0, 0, 0, 0, 0, 0, 0, 0, 0, 0, 0, 0, 0, 0, 0, 0, 0, 0, 0, 0, 0, 0, 0, 0, 0, 0, 0, 0, 0, 0, (random!) 0, 0, 0, 0, 0, 0, 0, 0, 0, 0, 0, 0, 0, 0, 0, 0, 0, 0, 0, 0, "
          ]
        }
      ]
    }
  ]
}